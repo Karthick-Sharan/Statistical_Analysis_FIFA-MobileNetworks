{
 "cells": [
  {
   "cell_type": "code",
   "execution_count": 2,
   "id": "60a307ad",
   "metadata": {},
   "outputs": [],
   "source": [
    "# import 'pandas' \n",
    "import pandas as pd \n",
    "\n",
    "# import 'numpy' \n",
    "import numpy as np\n",
    "\n",
    "# import subpackage of matplotlib\n",
    "import matplotlib.pyplot as plt\n",
    "\n",
    "# import 'seaborn'\n",
    "import seaborn as sns\n",
    "sns.set_style(style='darkgrid')\n",
    "\n",
    "# to suppress warnings \n",
    "from warnings import filterwarnings\n",
    "filterwarnings('ignore')\n",
    "\n",
    "# import 'random' to generate random sample\n",
    "import random\n",
    "\n",
    "# import statistics to perform statistical computation  \n",
    "import statistics\n",
    "\n",
    "# import 'stats' package from scipy library\n",
    "from scipy import stats\n",
    "\n",
    "# import a library to perform Z-test\n",
    "from statsmodels.stats import weightstats as stests\n",
    "\n",
    "# to test the normality \n",
    "from scipy.stats import shapiro\n",
    "\n",
    "# import the function to calculate the power of test\n",
    "from statsmodels.stats import power"
   ]
  },
  {
   "cell_type": "code",
   "execution_count": 276,
   "id": "6908b6dc",
   "metadata": {},
   "outputs": [
    {
     "data": {
      "text/html": [
       "<div>\n",
       "<style scoped>\n",
       "    .dataframe tbody tr th:only-of-type {\n",
       "        vertical-align: middle;\n",
       "    }\n",
       "\n",
       "    .dataframe tbody tr th {\n",
       "        vertical-align: top;\n",
       "    }\n",
       "\n",
       "    .dataframe thead th {\n",
       "        text-align: right;\n",
       "    }\n",
       "</style>\n",
       "<table border=\"1\" class=\"dataframe\">\n",
       "  <thead>\n",
       "    <tr style=\"text-align: right;\">\n",
       "      <th></th>\n",
       "      <th>Name</th>\n",
       "      <th>Age</th>\n",
       "      <th>Nationality</th>\n",
       "      <th>Overall_rating</th>\n",
       "      <th>Potential</th>\n",
       "      <th>Club</th>\n",
       "      <th>Preferred Foot</th>\n",
       "      <th>International Reputation</th>\n",
       "      <th>Weak Foot</th>\n",
       "      <th>Skill Moves</th>\n",
       "      <th>Work Rate</th>\n",
       "      <th>Position</th>\n",
       "      <th>Jersey Number</th>\n",
       "      <th>Height</th>\n",
       "      <th>Weight</th>\n",
       "    </tr>\n",
       "  </thead>\n",
       "  <tbody>\n",
       "    <tr>\n",
       "      <th>0</th>\n",
       "      <td>L. Messi</td>\n",
       "      <td>31</td>\n",
       "      <td>Argentina</td>\n",
       "      <td>94</td>\n",
       "      <td>94</td>\n",
       "      <td>FC Barcelona</td>\n",
       "      <td>Left</td>\n",
       "      <td>5</td>\n",
       "      <td>4</td>\n",
       "      <td>4</td>\n",
       "      <td>Medium/ Medium</td>\n",
       "      <td>RF</td>\n",
       "      <td>10</td>\n",
       "      <td>5.583333</td>\n",
       "      <td>159</td>\n",
       "    </tr>\n",
       "    <tr>\n",
       "      <th>1</th>\n",
       "      <td>Cristiano Ronaldo</td>\n",
       "      <td>33</td>\n",
       "      <td>Portugal</td>\n",
       "      <td>94</td>\n",
       "      <td>94</td>\n",
       "      <td>Juventus</td>\n",
       "      <td>Right</td>\n",
       "      <td>5</td>\n",
       "      <td>4</td>\n",
       "      <td>5</td>\n",
       "      <td>High/ Low</td>\n",
       "      <td>ST</td>\n",
       "      <td>7</td>\n",
       "      <td>6.166667</td>\n",
       "      <td>183</td>\n",
       "    </tr>\n",
       "    <tr>\n",
       "      <th>2</th>\n",
       "      <td>Neymar Jr</td>\n",
       "      <td>26</td>\n",
       "      <td>Brazil</td>\n",
       "      <td>92</td>\n",
       "      <td>93</td>\n",
       "      <td>Paris Saint-Germain</td>\n",
       "      <td>Right</td>\n",
       "      <td>5</td>\n",
       "      <td>5</td>\n",
       "      <td>5</td>\n",
       "      <td>High/ Medium</td>\n",
       "      <td>LW</td>\n",
       "      <td>10</td>\n",
       "      <td>5.750000</td>\n",
       "      <td>150</td>\n",
       "    </tr>\n",
       "    <tr>\n",
       "      <th>3</th>\n",
       "      <td>De Gea</td>\n",
       "      <td>27</td>\n",
       "      <td>Spain</td>\n",
       "      <td>91</td>\n",
       "      <td>93</td>\n",
       "      <td>Manchester United</td>\n",
       "      <td>Right</td>\n",
       "      <td>4</td>\n",
       "      <td>3</td>\n",
       "      <td>1</td>\n",
       "      <td>Medium/ Medium</td>\n",
       "      <td>GK</td>\n",
       "      <td>1</td>\n",
       "      <td>6.333333</td>\n",
       "      <td>168</td>\n",
       "    </tr>\n",
       "    <tr>\n",
       "      <th>4</th>\n",
       "      <td>K. De Bruyne</td>\n",
       "      <td>27</td>\n",
       "      <td>Belgium</td>\n",
       "      <td>91</td>\n",
       "      <td>92</td>\n",
       "      <td>Manchester City</td>\n",
       "      <td>Right</td>\n",
       "      <td>4</td>\n",
       "      <td>5</td>\n",
       "      <td>4</td>\n",
       "      <td>High/ High</td>\n",
       "      <td>RCM</td>\n",
       "      <td>7</td>\n",
       "      <td>5.083333</td>\n",
       "      <td>154</td>\n",
       "    </tr>\n",
       "    <tr>\n",
       "      <th>...</th>\n",
       "      <td>...</td>\n",
       "      <td>...</td>\n",
       "      <td>...</td>\n",
       "      <td>...</td>\n",
       "      <td>...</td>\n",
       "      <td>...</td>\n",
       "      <td>...</td>\n",
       "      <td>...</td>\n",
       "      <td>...</td>\n",
       "      <td>...</td>\n",
       "      <td>...</td>\n",
       "      <td>...</td>\n",
       "      <td>...</td>\n",
       "      <td>...</td>\n",
       "      <td>...</td>\n",
       "    </tr>\n",
       "    <tr>\n",
       "      <th>1995</th>\n",
       "      <td>R. BorrÃ©</td>\n",
       "      <td>22</td>\n",
       "      <td>Colombia</td>\n",
       "      <td>75</td>\n",
       "      <td>82</td>\n",
       "      <td>River Plate</td>\n",
       "      <td>Right</td>\n",
       "      <td>1</td>\n",
       "      <td>3</td>\n",
       "      <td>4</td>\n",
       "      <td>High/ Medium</td>\n",
       "      <td>RS</td>\n",
       "      <td>19</td>\n",
       "      <td>5.750000</td>\n",
       "      <td>157</td>\n",
       "    </tr>\n",
       "    <tr>\n",
       "      <th>1996</th>\n",
       "      <td>E. ZukanoviÄ‡</td>\n",
       "      <td>31</td>\n",
       "      <td>Bosnia Herzegovina</td>\n",
       "      <td>75</td>\n",
       "      <td>75</td>\n",
       "      <td>Genoa</td>\n",
       "      <td>Left</td>\n",
       "      <td>2</td>\n",
       "      <td>3</td>\n",
       "      <td>2</td>\n",
       "      <td>Low/ High</td>\n",
       "      <td>CB</td>\n",
       "      <td>87</td>\n",
       "      <td>6.250000</td>\n",
       "      <td>187</td>\n",
       "    </tr>\n",
       "    <tr>\n",
       "      <th>1997</th>\n",
       "      <td>A. Elis</td>\n",
       "      <td>22</td>\n",
       "      <td>Honduras</td>\n",
       "      <td>75</td>\n",
       "      <td>82</td>\n",
       "      <td>Houston Dynamo</td>\n",
       "      <td>Right</td>\n",
       "      <td>1</td>\n",
       "      <td>4</td>\n",
       "      <td>4</td>\n",
       "      <td>High/ Medium</td>\n",
       "      <td>RM</td>\n",
       "      <td>17</td>\n",
       "      <td>5.083333</td>\n",
       "      <td>170</td>\n",
       "    </tr>\n",
       "    <tr>\n",
       "      <th>1998</th>\n",
       "      <td>M. FernÃ¡ndez</td>\n",
       "      <td>32</td>\n",
       "      <td>Chile</td>\n",
       "      <td>75</td>\n",
       "      <td>75</td>\n",
       "      <td>Club Necaxa</td>\n",
       "      <td>Right</td>\n",
       "      <td>2</td>\n",
       "      <td>4</td>\n",
       "      <td>5</td>\n",
       "      <td>Medium/ Medium</td>\n",
       "      <td>LDM</td>\n",
       "      <td>14</td>\n",
       "      <td>5.083333</td>\n",
       "      <td>159</td>\n",
       "    </tr>\n",
       "    <tr>\n",
       "      <th>1999</th>\n",
       "      <td>D. RodrÃ­guez</td>\n",
       "      <td>28</td>\n",
       "      <td>Uruguay</td>\n",
       "      <td>75</td>\n",
       "      <td>75</td>\n",
       "      <td>Club Tijuana</td>\n",
       "      <td>Right</td>\n",
       "      <td>1</td>\n",
       "      <td>3</td>\n",
       "      <td>2</td>\n",
       "      <td>Medium/ Medium</td>\n",
       "      <td>RCM</td>\n",
       "      <td>15</td>\n",
       "      <td>5.583333</td>\n",
       "      <td>143</td>\n",
       "    </tr>\n",
       "  </tbody>\n",
       "</table>\n",
       "<p>2000 rows × 15 columns</p>\n",
       "</div>"
      ],
      "text/plain": [
       "                   Name  Age         Nationality  Overall_rating  Potential  \\\n",
       "0              L. Messi   31           Argentina              94         94   \n",
       "1     Cristiano Ronaldo   33            Portugal              94         94   \n",
       "2             Neymar Jr   26              Brazil              92         93   \n",
       "3                De Gea   27               Spain              91         93   \n",
       "4          K. De Bruyne   27             Belgium              91         92   \n",
       "...                 ...  ...                 ...             ...        ...   \n",
       "1995          R. BorrÃ©   22            Colombia              75         82   \n",
       "1996      E. ZukanoviÄ‡   31  Bosnia Herzegovina              75         75   \n",
       "1997            A. Elis   22            Honduras              75         82   \n",
       "1998      M. FernÃ¡ndez   32               Chile              75         75   \n",
       "1999      D. RodrÃ­guez   28             Uruguay              75         75   \n",
       "\n",
       "                     Club Preferred Foot  International Reputation  Weak Foot  \\\n",
       "0            FC Barcelona           Left                         5          4   \n",
       "1                Juventus          Right                         5          4   \n",
       "2     Paris Saint-Germain          Right                         5          5   \n",
       "3       Manchester United          Right                         4          3   \n",
       "4         Manchester City          Right                         4          5   \n",
       "...                   ...            ...                       ...        ...   \n",
       "1995          River Plate          Right                         1          3   \n",
       "1996                Genoa           Left                         2          3   \n",
       "1997       Houston Dynamo          Right                         1          4   \n",
       "1998          Club Necaxa          Right                         2          4   \n",
       "1999         Club Tijuana          Right                         1          3   \n",
       "\n",
       "      Skill Moves       Work Rate Position  Jersey Number    Height  Weight  \n",
       "0               4  Medium/ Medium       RF             10  5.583333     159  \n",
       "1               5       High/ Low       ST              7  6.166667     183  \n",
       "2               5    High/ Medium       LW             10  5.750000     150  \n",
       "3               1  Medium/ Medium       GK              1  6.333333     168  \n",
       "4               4      High/ High      RCM              7  5.083333     154  \n",
       "...           ...             ...      ...            ...       ...     ...  \n",
       "1995            4    High/ Medium       RS             19  5.750000     157  \n",
       "1996            2       Low/ High       CB             87  6.250000     187  \n",
       "1997            4    High/ Medium       RM             17  5.083333     170  \n",
       "1998            5  Medium/ Medium      LDM             14  5.083333     159  \n",
       "1999            2  Medium/ Medium      RCM             15  5.583333     143  \n",
       "\n",
       "[2000 rows x 15 columns]"
      ]
     },
     "execution_count": 276,
     "metadata": {},
     "output_type": "execute_result"
    }
   ],
   "source": [
    "df0 = pd.read_csv('fifa_stats.csv')\n",
    "df = df0.copy()\n",
    "df"
   ]
  },
  {
   "cell_type": "markdown",
   "id": "19edb879",
   "metadata": {},
   "source": [
    "# Dataset 1 cleaning"
   ]
  },
  {
   "cell_type": "code",
   "execution_count": 69,
   "id": "6211ae89",
   "metadata": {},
   "outputs": [
    {
     "data": {
      "text/plain": [
       "Name                         0\n",
       "Age                          0\n",
       "Nationality                  0\n",
       "Overall_rating               0\n",
       "Potential                    0\n",
       "Club                        19\n",
       "Preferred Foot               0\n",
       "International Reputation     0\n",
       "Weak Foot                    0\n",
       "Skill Moves                  0\n",
       "Work Rate                    0\n",
       "Position                     0\n",
       "Jersey Number                0\n",
       "Height                       0\n",
       "Weight                       0\n",
       "dtype: int64"
      ]
     },
     "execution_count": 69,
     "metadata": {},
     "output_type": "execute_result"
    }
   ],
   "source": [
    "df.isnull().sum()"
   ]
  },
  {
   "cell_type": "code",
   "execution_count": 70,
   "id": "6a772a89",
   "metadata": {},
   "outputs": [],
   "source": [
    "df.drop(columns=['Jersey Number','Club'], inplace=True) # Dropping cloumns which are not needed for analysis"
   ]
  },
  {
   "cell_type": "code",
   "execution_count": 71,
   "id": "b53ecee9",
   "metadata": {},
   "outputs": [
    {
     "data": {
      "text/html": [
       "<div>\n",
       "<style scoped>\n",
       "    .dataframe tbody tr th:only-of-type {\n",
       "        vertical-align: middle;\n",
       "    }\n",
       "\n",
       "    .dataframe tbody tr th {\n",
       "        vertical-align: top;\n",
       "    }\n",
       "\n",
       "    .dataframe thead th {\n",
       "        text-align: right;\n",
       "    }\n",
       "</style>\n",
       "<table border=\"1\" class=\"dataframe\">\n",
       "  <thead>\n",
       "    <tr style=\"text-align: right;\">\n",
       "      <th></th>\n",
       "      <th>Name</th>\n",
       "      <th>Age</th>\n",
       "      <th>Nationality</th>\n",
       "      <th>Overall_rating</th>\n",
       "      <th>Potential</th>\n",
       "      <th>Preferred Foot</th>\n",
       "      <th>International Reputation</th>\n",
       "      <th>Weak Foot</th>\n",
       "      <th>Skill Moves</th>\n",
       "      <th>Work Rate</th>\n",
       "      <th>Position</th>\n",
       "      <th>Height</th>\n",
       "      <th>Weight</th>\n",
       "    </tr>\n",
       "  </thead>\n",
       "  <tbody>\n",
       "    <tr>\n",
       "      <th>0</th>\n",
       "      <td>L. Messi</td>\n",
       "      <td>31</td>\n",
       "      <td>Argentina</td>\n",
       "      <td>94</td>\n",
       "      <td>94</td>\n",
       "      <td>Left</td>\n",
       "      <td>5</td>\n",
       "      <td>4</td>\n",
       "      <td>4</td>\n",
       "      <td>Medium/ Medium</td>\n",
       "      <td>RF</td>\n",
       "      <td>5.583333</td>\n",
       "      <td>159</td>\n",
       "    </tr>\n",
       "    <tr>\n",
       "      <th>1</th>\n",
       "      <td>Cristiano Ronaldo</td>\n",
       "      <td>33</td>\n",
       "      <td>Portugal</td>\n",
       "      <td>94</td>\n",
       "      <td>94</td>\n",
       "      <td>Right</td>\n",
       "      <td>5</td>\n",
       "      <td>4</td>\n",
       "      <td>5</td>\n",
       "      <td>High/ Low</td>\n",
       "      <td>ST</td>\n",
       "      <td>6.166667</td>\n",
       "      <td>183</td>\n",
       "    </tr>\n",
       "    <tr>\n",
       "      <th>2</th>\n",
       "      <td>Neymar Jr</td>\n",
       "      <td>26</td>\n",
       "      <td>Brazil</td>\n",
       "      <td>92</td>\n",
       "      <td>93</td>\n",
       "      <td>Right</td>\n",
       "      <td>5</td>\n",
       "      <td>5</td>\n",
       "      <td>5</td>\n",
       "      <td>High/ Medium</td>\n",
       "      <td>LW</td>\n",
       "      <td>5.750000</td>\n",
       "      <td>150</td>\n",
       "    </tr>\n",
       "    <tr>\n",
       "      <th>3</th>\n",
       "      <td>De Gea</td>\n",
       "      <td>27</td>\n",
       "      <td>Spain</td>\n",
       "      <td>91</td>\n",
       "      <td>93</td>\n",
       "      <td>Right</td>\n",
       "      <td>4</td>\n",
       "      <td>3</td>\n",
       "      <td>1</td>\n",
       "      <td>Medium/ Medium</td>\n",
       "      <td>GK</td>\n",
       "      <td>6.333333</td>\n",
       "      <td>168</td>\n",
       "    </tr>\n",
       "    <tr>\n",
       "      <th>4</th>\n",
       "      <td>K. De Bruyne</td>\n",
       "      <td>27</td>\n",
       "      <td>Belgium</td>\n",
       "      <td>91</td>\n",
       "      <td>92</td>\n",
       "      <td>Right</td>\n",
       "      <td>4</td>\n",
       "      <td>5</td>\n",
       "      <td>4</td>\n",
       "      <td>High/ High</td>\n",
       "      <td>RCM</td>\n",
       "      <td>5.083333</td>\n",
       "      <td>154</td>\n",
       "    </tr>\n",
       "  </tbody>\n",
       "</table>\n",
       "</div>"
      ],
      "text/plain": [
       "                Name  Age Nationality  Overall_rating  Potential  \\\n",
       "0           L. Messi   31   Argentina              94         94   \n",
       "1  Cristiano Ronaldo   33    Portugal              94         94   \n",
       "2          Neymar Jr   26      Brazil              92         93   \n",
       "3             De Gea   27       Spain              91         93   \n",
       "4       K. De Bruyne   27     Belgium              91         92   \n",
       "\n",
       "  Preferred Foot  International Reputation  Weak Foot  Skill Moves  \\\n",
       "0           Left                         5          4            4   \n",
       "1          Right                         5          4            5   \n",
       "2          Right                         5          5            5   \n",
       "3          Right                         4          3            1   \n",
       "4          Right                         4          5            4   \n",
       "\n",
       "        Work Rate Position    Height  Weight  \n",
       "0  Medium/ Medium       RF  5.583333     159  \n",
       "1       High/ Low       ST  6.166667     183  \n",
       "2    High/ Medium       LW  5.750000     150  \n",
       "3  Medium/ Medium       GK  6.333333     168  \n",
       "4      High/ High      RCM  5.083333     154  "
      ]
     },
     "execution_count": 71,
     "metadata": {},
     "output_type": "execute_result"
    }
   ],
   "source": [
    "df.head()"
   ]
  },
  {
   "cell_type": "code",
   "execution_count": 72,
   "id": "a3fdb611",
   "metadata": {},
   "outputs": [
    {
     "data": {
      "text/plain": [
       "Name                        0\n",
       "Age                         0\n",
       "Nationality                 0\n",
       "Overall_rating              0\n",
       "Potential                   0\n",
       "Preferred Foot              0\n",
       "International Reputation    0\n",
       "Weak Foot                   0\n",
       "Skill Moves                 0\n",
       "Work Rate                   0\n",
       "Position                    0\n",
       "Height                      0\n",
       "Weight                      0\n",
       "dtype: int64"
      ]
     },
     "execution_count": 72,
     "metadata": {},
     "output_type": "execute_result"
    }
   ],
   "source": [
    "df.isnull().sum()   #Missing values removed by dropping columns"
   ]
  },
  {
   "cell_type": "markdown",
   "id": "53734549",
   "metadata": {},
   "source": [
    "# Analysis : "
   ]
  },
  {
   "cell_type": "raw",
   "id": "e32c1c99",
   "metadata": {},
   "source": [
    "1. Perform the following statistical analysis on the fifa world cup dataset. The dataset consists of player information which includes height, weight overall rating, potential etc. Data Cleaning and basic EDA process needs to be performed. "
   ]
  },
  {
   "cell_type": "code",
   "execution_count": 20,
   "id": "ac0071b7",
   "metadata": {},
   "outputs": [],
   "source": [
    "# a) Assuming age as population, perform the central limit theorem with sample size of 200. \n",
    "#    Find the standard error and the mean of sampling distribution. \n",
    "#    Compare the results with population mean and standard deviation. Explain in non-technical terms why the\n",
    "#    estimated standard error of a sample mean tends to decrease with an increase in sample size"
   ]
  },
  {
   "cell_type": "code",
   "execution_count": 22,
   "id": "096e8c31",
   "metadata": {},
   "outputs": [],
   "source": [
    "pop = df['Age']\n",
    "sample_size = 200\n",
    "samples = 200\n",
    "sample_means = []\n",
    "for i in range(samples):\n",
    "    sample = np.random.choice(pop, size=sample_size, replace=True)\n",
    "    sample_means.append(np.mean(sample))"
   ]
  },
  {
   "cell_type": "code",
   "execution_count": 23,
   "id": "e457e16f",
   "metadata": {},
   "outputs": [
    {
     "data": {
      "text/plain": [
       "200"
      ]
     },
     "execution_count": 23,
     "metadata": {},
     "output_type": "execute_result"
    }
   ],
   "source": [
    "len(sample_means)"
   ]
  },
  {
   "cell_type": "code",
   "execution_count": 24,
   "id": "d77e3ba5",
   "metadata": {},
   "outputs": [
    {
     "data": {
      "text/plain": [
       "<AxesSubplot:ylabel='Density'>"
      ]
     },
     "execution_count": 24,
     "metadata": {},
     "output_type": "execute_result"
    },
    {
     "data": {
      "image/png": "[encoded data removed]",
      "text/plain": [
       "<Figure size 432x288 with 1 Axes>"
      ]
     },
     "metadata": {},
     "output_type": "display_data"
    }
   ],
   "source": [
    "sns.distplot(sample_means)"
   ]
  },
  {
   "cell_type": "code",
   "execution_count": 27,
   "id": "e038bf6e",
   "metadata": {},
   "outputs": [
    {
     "data": {
      "text/plain": [
       "27.235775000000004"
      ]
     },
     "execution_count": 27,
     "metadata": {},
     "output_type": "execute_result"
    }
   ],
   "source": [
    "np.mean(sample_means)  # Sampling Meam (Mu_s)"
   ]
  },
  {
   "cell_type": "code",
   "execution_count": 28,
   "id": "4336c2e3",
   "metadata": {},
   "outputs": [
    {
     "data": {
      "text/plain": [
       "27.2315"
      ]
     },
     "execution_count": 28,
     "metadata": {},
     "output_type": "execute_result"
    }
   ],
   "source": [
    "pop.mean()   # Population Mean (Mu)"
   ]
  },
  {
   "cell_type": "code",
   "execution_count": 29,
   "id": "02db926c",
   "metadata": {},
   "outputs": [
    {
     "data": {
      "text/plain": [
       "0.27566242829772797"
      ]
     },
     "execution_count": 29,
     "metadata": {},
     "output_type": "execute_result"
    }
   ],
   "source": [
    "np.std(sample_means)     # Sampling std (sigma_s)"
   ]
  },
  {
   "cell_type": "code",
   "execution_count": 46,
   "id": "e64bc618",
   "metadata": {},
   "outputs": [
    {
     "data": {
      "text/plain": [
       "0.2728768396819654"
      ]
     },
     "execution_count": 46,
     "metadata": {},
     "output_type": "execute_result"
    }
   ],
   "source": [
    "pop.std()/sample_size**0.5   # Standard error = population_std(sigma)/root_n"
   ]
  },
  {
   "cell_type": "code",
   "execution_count": 32,
   "id": "cbb8b39b",
   "metadata": {},
   "outputs": [],
   "source": [
    "# from the above samples we can see that the sampling mean Mu_s is almost equal to population mean Mu and\n",
    "# the sampling std is almost the same as pop_std/root(sample_size) which is the standard error of the sampling distribution"
   ]
  },
  {
   "cell_type": "code",
   "execution_count": 43,
   "id": "e098624f",
   "metadata": {},
   "outputs": [],
   "source": [
    "sample_size1 = 200\n",
    "sample1 = np.random.choice(pop, size=sample_size, replace=True)\n",
    "s = np.std(sample1)\n",
    "std_error1 = s/np.power(sample_size1, 0.5)\n",
    "\n",
    "sample_size2 = 800\n",
    "sample2 = np.random.choice(pop, size=sample_size, replace=True)\n",
    "s = np.std(sample2)\n",
    "std_error2 = s/np.power(sample_size2, 0.5)"
   ]
  },
  {
   "cell_type": "code",
   "execution_count": 44,
   "id": "bed38128",
   "metadata": {},
   "outputs": [
    {
     "name": "stdout",
     "output_type": "stream",
     "text": [
      "For Sample 1 : \n",
      "Sample Size :  200 \n",
      "Estimated Standard error : 0.2713853349022382\n",
      "\n",
      "For Sample 2 : \n",
      "Sample Size :  800 \n",
      "Estimated Standard error : 0.1428176284637159\n"
     ]
    }
   ],
   "source": [
    "print(\"For Sample 1 : \\nSample Size : \", sample_size1, \"\\nEstimated Standard error :\", std_error1)\n",
    "print(\"\\nFor Sample 2 : \\nSample Size : \", sample_size2, \"\\nEstimated Standard error :\", std_error2)"
   ]
  },
  {
   "cell_type": "markdown",
   "id": "16f9acbc",
   "metadata": {},
   "source": [
    "We can see that as the sample size increases the estimated standard error decreases, this is beacuse as the no. of samples\n",
    "increases the sample distribution gets closer and closer to the population distribution.\n",
    "\n",
    "Standard error gives the accuracy of a sample mean. It describes how precise the mean of the sample is as an estimate of the true mean of the population. As the size of the sample data grows larger, the standard error decreases hence, as the sample size increases, the sample mean estimates the true mean of the population with greater precision. \n"
   ]
  },
  {
   "cell_type": "code",
   "execution_count": 47,
   "id": "8e76cc24",
   "metadata": {},
   "outputs": [],
   "source": [
    "# ---------------------------------------------------------------------------------------------------------------"
   ]
  },
  {
   "cell_type": "code",
   "execution_count": 48,
   "id": "906c1d9c",
   "metadata": {},
   "outputs": [],
   "source": [
    "# 1 b) Is there any evidence that the players overall rating is greater than 80?"
   ]
  },
  {
   "cell_type": "code",
   "execution_count": 247,
   "id": "48c877f5",
   "metadata": {},
   "outputs": [
    {
     "name": "stdout",
     "output_type": "stream",
     "text": [
      "confidence interval : 78.05290147308716 78.34109852691284\n"
     ]
    }
   ],
   "source": [
    "s = df['Overall_rating'].std()     # Since our dataframe itself is a sample, we can go for CI with t stat\n",
    "x_bar = df['Overall_rating'].mean()\n",
    "n = len(df)\n",
    "t = stats.t.isf((1-0.95)/2, df=n-1)\n",
    "\n",
    "ll = x_bar - t*s/n**0.5\n",
    "ul = x_bar + t*s/n**0.5\n",
    "\n",
    "print('confidence interval :', ll,ul)"
   ]
  },
  {
   "cell_type": "code",
   "execution_count": 242,
   "id": "4b391335",
   "metadata": {},
   "outputs": [],
   "source": [
    "# The confidence interval for avg Overall rating is 78.05 to 78.34, so the avg Overall Rating for the population\n",
    "# should lie within this limit. Hence it's lesser than 80."
   ]
  },
  {
   "cell_type": "code",
   "execution_count": null,
   "id": "70bb7109",
   "metadata": {},
   "outputs": [],
   "source": [
    "# ----------------------------------------------------------------------------------------------------------------------"
   ]
  },
  {
   "cell_type": "code",
   "execution_count": 243,
   "id": "b47ba7d6",
   "metadata": {},
   "outputs": [],
   "source": [
    "# 1 c) Perform the statistical test to identify whether preferred foot has any impact on potential. \n",
    "#      Also, perform the graphical analysis."
   ]
  },
  {
   "cell_type": "code",
   "execution_count": 245,
   "id": "b5b5aa1b",
   "metadata": {},
   "outputs": [
    {
     "data": {
      "text/html": [
       "<div>\n",
       "<style scoped>\n",
       "    .dataframe tbody tr th:only-of-type {\n",
       "        vertical-align: middle;\n",
       "    }\n",
       "\n",
       "    .dataframe tbody tr th {\n",
       "        vertical-align: top;\n",
       "    }\n",
       "\n",
       "    .dataframe thead th {\n",
       "        text-align: right;\n",
       "    }\n",
       "</style>\n",
       "<table border=\"1\" class=\"dataframe\">\n",
       "  <thead>\n",
       "    <tr style=\"text-align: right;\">\n",
       "      <th>Potential</th>\n",
       "      <th>75</th>\n",
       "      <th>76</th>\n",
       "      <th>77</th>\n",
       "      <th>78</th>\n",
       "      <th>79</th>\n",
       "      <th>80</th>\n",
       "      <th>81</th>\n",
       "      <th>82</th>\n",
       "      <th>83</th>\n",
       "      <th>84</th>\n",
       "      <th>...</th>\n",
       "      <th>86</th>\n",
       "      <th>87</th>\n",
       "      <th>88</th>\n",
       "      <th>89</th>\n",
       "      <th>90</th>\n",
       "      <th>91</th>\n",
       "      <th>92</th>\n",
       "      <th>93</th>\n",
       "      <th>94</th>\n",
       "      <th>95</th>\n",
       "    </tr>\n",
       "    <tr>\n",
       "      <th>Preferred Foot</th>\n",
       "      <th></th>\n",
       "      <th></th>\n",
       "      <th></th>\n",
       "      <th></th>\n",
       "      <th></th>\n",
       "      <th></th>\n",
       "      <th></th>\n",
       "      <th></th>\n",
       "      <th></th>\n",
       "      <th></th>\n",
       "      <th></th>\n",
       "      <th></th>\n",
       "      <th></th>\n",
       "      <th></th>\n",
       "      <th></th>\n",
       "      <th></th>\n",
       "      <th></th>\n",
       "      <th></th>\n",
       "      <th></th>\n",
       "      <th></th>\n",
       "      <th></th>\n",
       "    </tr>\n",
       "  </thead>\n",
       "  <tbody>\n",
       "    <tr>\n",
       "      <th>Left</th>\n",
       "      <td>59</td>\n",
       "      <td>42</td>\n",
       "      <td>41</td>\n",
       "      <td>31</td>\n",
       "      <td>34</td>\n",
       "      <td>51</td>\n",
       "      <td>32</td>\n",
       "      <td>29</td>\n",
       "      <td>30</td>\n",
       "      <td>32</td>\n",
       "      <td>...</td>\n",
       "      <td>17</td>\n",
       "      <td>16</td>\n",
       "      <td>9</td>\n",
       "      <td>13</td>\n",
       "      <td>6</td>\n",
       "      <td>1</td>\n",
       "      <td>4</td>\n",
       "      <td>0</td>\n",
       "      <td>2</td>\n",
       "      <td>0</td>\n",
       "    </tr>\n",
       "    <tr>\n",
       "      <th>Right</th>\n",
       "      <td>153</td>\n",
       "      <td>182</td>\n",
       "      <td>176</td>\n",
       "      <td>114</td>\n",
       "      <td>120</td>\n",
       "      <td>142</td>\n",
       "      <td>111</td>\n",
       "      <td>100</td>\n",
       "      <td>107</td>\n",
       "      <td>78</td>\n",
       "      <td>...</td>\n",
       "      <td>49</td>\n",
       "      <td>36</td>\n",
       "      <td>32</td>\n",
       "      <td>18</td>\n",
       "      <td>15</td>\n",
       "      <td>11</td>\n",
       "      <td>5</td>\n",
       "      <td>4</td>\n",
       "      <td>1</td>\n",
       "      <td>1</td>\n",
       "    </tr>\n",
       "  </tbody>\n",
       "</table>\n",
       "<p>2 rows × 21 columns</p>\n",
       "</div>"
      ],
      "text/plain": [
       "Potential        75   76   77   78   79   80   81   82   83  84  ...  86  87  \\\n",
       "Preferred Foot                                                   ...           \n",
       "Left             59   42   41   31   34   51   32   29   30  32  ...  17  16   \n",
       "Right           153  182  176  114  120  142  111  100  107  78  ...  49  36   \n",
       "\n",
       "Potential       88  89  90  91  92  93  94  95  \n",
       "Preferred Foot                                  \n",
       "Left             9  13   6   1   4   0   2   0  \n",
       "Right           32  18  15  11   5   4   1   1  \n",
       "\n",
       "[2 rows x 21 columns]"
      ]
     },
     "execution_count": 245,
     "metadata": {},
     "output_type": "execute_result"
    }
   ],
   "source": [
    "# Considering Potential as discrete data, going for chi-squared TOI\n",
    "\n",
    "# Ho : Preferred foot and Potential are independent\n",
    "# Ha : Preferred foot and Potential are dependent\n",
    "\n",
    "significance_level = 0.05\n",
    "obs = pd.crosstab(df['Preferred Foot'],df['Potential'])\n",
    "obs"
   ]
  },
  {
   "cell_type": "code",
   "execution_count": 250,
   "id": "e6fa6729",
   "metadata": {},
   "outputs": [
    {
     "data": {
      "text/plain": [
       "(29.55053700074528,\n",
       " 0.07747130218941192,\n",
       " 20,\n",
       " array([[ 49.396,  52.192,  50.561,  33.785,  35.882,  44.969,  33.319,\n",
       "          30.057,  31.921,  25.63 ,  22.368,  15.378,  12.116,   9.553,\n",
       "           7.223,   4.893,   2.796,   2.097,   0.932,   0.699,   0.233],\n",
       "        [162.604, 171.808, 166.439, 111.215, 118.118, 148.031, 109.681,\n",
       "          98.943, 105.079,  84.37 ,  73.632,  50.622,  39.884,  31.447,\n",
       "          23.777,  16.107,   9.204,   6.903,   3.068,   2.301,   0.767]]))"
      ]
     },
     "execution_count": 250,
     "metadata": {},
     "output_type": "execute_result"
    }
   ],
   "source": [
    "test_stat, pval, dof, exp = stats.chi2_contingency(obs)\n",
    "stats.chi2_contingency(obs)"
   ]
  },
  {
   "cell_type": "code",
   "execution_count": 249,
   "id": "f1504a66",
   "metadata": {},
   "outputs": [
    {
     "name": "stdout",
     "output_type": "stream",
     "text": [
      "Pval is : 0.07747130218941192\n"
     ]
    }
   ],
   "source": [
    "print(\"Pval is :\",pval)"
   ]
  },
  {
   "cell_type": "code",
   "execution_count": 251,
   "id": "d3573c47",
   "metadata": {},
   "outputs": [],
   "source": [
    "# Pval is greater than significance level of 0.05\n",
    "# Hence, Ho is selected, So Preferred foot and Potential are independent"
   ]
  },
  {
   "cell_type": "code",
   "execution_count": 252,
   "id": "dd05e7bd",
   "metadata": {},
   "outputs": [],
   "source": [
    "# --------------------------------------------------------------------------------------------------------------------"
   ]
  },
  {
   "cell_type": "code",
   "execution_count": 253,
   "id": "d6d78f2a",
   "metadata": {},
   "outputs": [],
   "source": [
    "# 1 d) Perform the statistical test to identify the relation between the overall rating and potential. \n",
    "#     [Assume both are continuous data points]"
   ]
  },
  {
   "cell_type": "code",
   "execution_count": 277,
   "id": "c48c596b",
   "metadata": {},
   "outputs": [
    {
     "data": {
      "text/plain": [
       "SpearmanrResult(correlation=0.6904482380449665, pvalue=2.6831262205531135e-283)"
      ]
     },
     "execution_count": 277,
     "metadata": {},
     "output_type": "execute_result"
    }
   ],
   "source": [
    "stats.spearmanr(df['Overall_rating'],df['Potential'])"
   ]
  },
  {
   "cell_type": "code",
   "execution_count": null,
   "id": "e372a6ba",
   "metadata": {},
   "outputs": [],
   "source": [
    "# pvalue is less than significance limit of 0.05\n",
    "# Ho is rejected, Ha is selected\n",
    "# So Overall_rating has a correlation with Potential"
   ]
  },
  {
   "cell_type": "code",
   "execution_count": 255,
   "id": "48e155ef",
   "metadata": {},
   "outputs": [
    {
     "data": {
      "text/plain": [
       "<AxesSubplot:xlabel='Overall_rating', ylabel='Potential'>"
      ]
     },
     "execution_count": 255,
     "metadata": {},
     "output_type": "execute_result"
    },
    {
     "data": {
      "image/png": "[encoded data removed]",
      "text/plain": [
       "<Figure size 432x288 with 1 Axes>"
      ]
     },
     "metadata": {},
     "output_type": "display_data"
    }
   ],
   "source": [
    "sns.regplot(df['Overall_rating'],df['Potential'])"
   ]
  },
  {
   "cell_type": "code",
   "execution_count": 256,
   "id": "2de2a5a7",
   "metadata": {},
   "outputs": [],
   "source": [
    "# Potential and Overall_rating have a correlation value of 0.6904, so there's a relatively medium-strong correlation"
   ]
  },
  {
   "cell_type": "code",
   "execution_count": 257,
   "id": "b9d758ab",
   "metadata": {},
   "outputs": [],
   "source": [
    "# --------------------------------------------------------------------------------------------------------------------"
   ]
  },
  {
   "cell_type": "code",
   "execution_count": 258,
   "id": "fbccca73",
   "metadata": {},
   "outputs": [],
   "source": [
    "# 1 e) Does skill move have any effect in overall rating. Perform the graphical analysis and the statistical analysis."
   ]
  },
  {
   "cell_type": "code",
   "execution_count": 259,
   "id": "8ff0556a",
   "metadata": {},
   "outputs": [
    {
     "data": {
      "text/html": [
       "<div>\n",
       "<style scoped>\n",
       "    .dataframe tbody tr th:only-of-type {\n",
       "        vertical-align: middle;\n",
       "    }\n",
       "\n",
       "    .dataframe tbody tr th {\n",
       "        vertical-align: top;\n",
       "    }\n",
       "\n",
       "    .dataframe thead th {\n",
       "        text-align: right;\n",
       "    }\n",
       "</style>\n",
       "<table border=\"1\" class=\"dataframe\">\n",
       "  <thead>\n",
       "    <tr style=\"text-align: right;\">\n",
       "      <th>Overall_rating</th>\n",
       "      <th>75</th>\n",
       "      <th>76</th>\n",
       "      <th>77</th>\n",
       "      <th>78</th>\n",
       "      <th>79</th>\n",
       "      <th>80</th>\n",
       "      <th>81</th>\n",
       "      <th>82</th>\n",
       "      <th>83</th>\n",
       "      <th>84</th>\n",
       "      <th>85</th>\n",
       "      <th>86</th>\n",
       "      <th>87</th>\n",
       "      <th>88</th>\n",
       "      <th>89</th>\n",
       "      <th>90</th>\n",
       "      <th>91</th>\n",
       "      <th>92</th>\n",
       "      <th>94</th>\n",
       "    </tr>\n",
       "    <tr>\n",
       "      <th>Skill Moves</th>\n",
       "      <th></th>\n",
       "      <th></th>\n",
       "      <th></th>\n",
       "      <th></th>\n",
       "      <th></th>\n",
       "      <th></th>\n",
       "      <th></th>\n",
       "      <th></th>\n",
       "      <th></th>\n",
       "      <th></th>\n",
       "      <th></th>\n",
       "      <th></th>\n",
       "      <th></th>\n",
       "      <th></th>\n",
       "      <th></th>\n",
       "      <th></th>\n",
       "      <th></th>\n",
       "      <th></th>\n",
       "      <th></th>\n",
       "    </tr>\n",
       "  </thead>\n",
       "  <tbody>\n",
       "    <tr>\n",
       "      <th>1</th>\n",
       "      <td>38</td>\n",
       "      <td>32</td>\n",
       "      <td>23</td>\n",
       "      <td>15</td>\n",
       "      <td>19</td>\n",
       "      <td>18</td>\n",
       "      <td>5</td>\n",
       "      <td>12</td>\n",
       "      <td>13</td>\n",
       "      <td>7</td>\n",
       "      <td>2</td>\n",
       "      <td>1</td>\n",
       "      <td>1</td>\n",
       "      <td>3</td>\n",
       "      <td>3</td>\n",
       "      <td>1</td>\n",
       "      <td>1</td>\n",
       "      <td>0</td>\n",
       "      <td>0</td>\n",
       "    </tr>\n",
       "    <tr>\n",
       "      <th>2</th>\n",
       "      <td>96</td>\n",
       "      <td>78</td>\n",
       "      <td>63</td>\n",
       "      <td>30</td>\n",
       "      <td>24</td>\n",
       "      <td>25</td>\n",
       "      <td>13</td>\n",
       "      <td>20</td>\n",
       "      <td>10</td>\n",
       "      <td>10</td>\n",
       "      <td>12</td>\n",
       "      <td>6</td>\n",
       "      <td>3</td>\n",
       "      <td>2</td>\n",
       "      <td>2</td>\n",
       "      <td>1</td>\n",
       "      <td>0</td>\n",
       "      <td>0</td>\n",
       "      <td>0</td>\n",
       "    </tr>\n",
       "    <tr>\n",
       "      <th>3</th>\n",
       "      <td>219</td>\n",
       "      <td>171</td>\n",
       "      <td>138</td>\n",
       "      <td>64</td>\n",
       "      <td>72</td>\n",
       "      <td>56</td>\n",
       "      <td>28</td>\n",
       "      <td>24</td>\n",
       "      <td>17</td>\n",
       "      <td>11</td>\n",
       "      <td>9</td>\n",
       "      <td>4</td>\n",
       "      <td>7</td>\n",
       "      <td>2</td>\n",
       "      <td>3</td>\n",
       "      <td>1</td>\n",
       "      <td>2</td>\n",
       "      <td>0</td>\n",
       "      <td>0</td>\n",
       "    </tr>\n",
       "    <tr>\n",
       "      <th>4</th>\n",
       "      <td>74</td>\n",
       "      <td>92</td>\n",
       "      <td>75</td>\n",
       "      <td>59</td>\n",
       "      <td>52</td>\n",
       "      <td>41</td>\n",
       "      <td>43</td>\n",
       "      <td>34</td>\n",
       "      <td>27</td>\n",
       "      <td>13</td>\n",
       "      <td>8</td>\n",
       "      <td>9</td>\n",
       "      <td>1</td>\n",
       "      <td>7</td>\n",
       "      <td>3</td>\n",
       "      <td>2</td>\n",
       "      <td>3</td>\n",
       "      <td>0</td>\n",
       "      <td>1</td>\n",
       "    </tr>\n",
       "    <tr>\n",
       "      <th>5</th>\n",
       "      <td>2</td>\n",
       "      <td>0</td>\n",
       "      <td>5</td>\n",
       "      <td>0</td>\n",
       "      <td>4</td>\n",
       "      <td>3</td>\n",
       "      <td>4</td>\n",
       "      <td>4</td>\n",
       "      <td>3</td>\n",
       "      <td>4</td>\n",
       "      <td>2</td>\n",
       "      <td>2</td>\n",
       "      <td>1</td>\n",
       "      <td>3</td>\n",
       "      <td>0</td>\n",
       "      <td>0</td>\n",
       "      <td>0</td>\n",
       "      <td>1</td>\n",
       "      <td>1</td>\n",
       "    </tr>\n",
       "  </tbody>\n",
       "</table>\n",
       "</div>"
      ],
      "text/plain": [
       "Overall_rating   75   76   77  78  79  80  81  82  83  84  85  86  87  88  89  \\\n",
       "Skill Moves                                                                     \n",
       "1                38   32   23  15  19  18   5  12  13   7   2   1   1   3   3   \n",
       "2                96   78   63  30  24  25  13  20  10  10  12   6   3   2   2   \n",
       "3               219  171  138  64  72  56  28  24  17  11   9   4   7   2   3   \n",
       "4                74   92   75  59  52  41  43  34  27  13   8   9   1   7   3   \n",
       "5                 2    0    5   0   4   3   4   4   3   4   2   2   1   3   0   \n",
       "\n",
       "Overall_rating  90  91  92  94  \n",
       "Skill Moves                     \n",
       "1                1   1   0   0  \n",
       "2                1   0   0   0  \n",
       "3                1   2   0   0  \n",
       "4                2   3   0   1  \n",
       "5                0   0   1   1  "
      ]
     },
     "execution_count": 259,
     "metadata": {},
     "output_type": "execute_result"
    }
   ],
   "source": [
    "# chi squared TOI\n",
    "# Ho : Skill moves and Overall rating are independent \n",
    "# Ha : Skill moves and Overall rating are dependent\n",
    "\n",
    "obs = pd.crosstab(df['Skill Moves'],df['Overall_rating'])\n",
    "obs"
   ]
  },
  {
   "cell_type": "code",
   "execution_count": 260,
   "id": "d543de0d",
   "metadata": {},
   "outputs": [
    {
     "data": {
      "text/plain": [
       "(264.3544361441865,\n",
       " 9.004103479489286e-24,\n",
       " 72,\n",
       " array([[4.16130e+01, 3.61810e+01, 2.94880e+01, 1.62960e+01, 1.65870e+01,\n",
       "         1.38710e+01, 9.02100e+00, 9.11800e+00, 6.79000e+00, 4.36500e+00,\n",
       "         3.20100e+00, 2.13400e+00, 1.26100e+00, 1.64900e+00, 1.06700e+00,\n",
       "         4.85000e-01, 5.82000e-01, 9.70000e-02, 1.94000e-01],\n",
       "        [8.47275e+01, 7.36675e+01, 6.00400e+01, 3.31800e+01, 3.37725e+01,\n",
       "         2.82425e+01, 1.83675e+01, 1.85650e+01, 1.38250e+01, 8.88750e+00,\n",
       "         6.51750e+00, 4.34500e+00, 2.56750e+00, 3.35750e+00, 2.17250e+00,\n",
       "         9.87500e-01, 1.18500e+00, 1.97500e-01, 3.95000e-01],\n",
       "        [1.77606e+02, 1.54422e+02, 1.25856e+02, 6.95520e+01, 7.07940e+01,\n",
       "         5.92020e+01, 3.85020e+01, 3.89160e+01, 2.89800e+01, 1.86300e+01,\n",
       "         1.36620e+01, 9.10800e+00, 5.38200e+00, 7.03800e+00, 4.55400e+00,\n",
       "         2.07000e+00, 2.48400e+00, 4.14000e-01, 8.28000e-01],\n",
       "        [1.16688e+02, 1.01456e+02, 8.26880e+01, 4.56960e+01, 4.65120e+01,\n",
       "         3.88960e+01, 2.52960e+01, 2.55680e+01, 1.90400e+01, 1.22400e+01,\n",
       "         8.97600e+00, 5.98400e+00, 3.53600e+00, 4.62400e+00, 2.99200e+00,\n",
       "         1.36000e+00, 1.63200e+00, 2.72000e-01, 5.44000e-01],\n",
       "        [8.36550e+00, 7.27350e+00, 5.92800e+00, 3.27600e+00, 3.33450e+00,\n",
       "         2.78850e+00, 1.81350e+00, 1.83300e+00, 1.36500e+00, 8.77500e-01,\n",
       "         6.43500e-01, 4.29000e-01, 2.53500e-01, 3.31500e-01, 2.14500e-01,\n",
       "         9.75000e-02, 1.17000e-01, 1.95000e-02, 3.90000e-02]]))"
      ]
     },
     "execution_count": 260,
     "metadata": {},
     "output_type": "execute_result"
    }
   ],
   "source": [
    "test_stat, pval, dof, exp = stats.chi2_contingency(obs)\n",
    "stats.chi2_contingency(obs)"
   ]
  },
  {
   "cell_type": "code",
   "execution_count": 261,
   "id": "489d6c9c",
   "metadata": {},
   "outputs": [
    {
     "name": "stdout",
     "output_type": "stream",
     "text": [
      "Pval is : 9.004103479489286e-24\n"
     ]
    }
   ],
   "source": [
    "print(\"Pval is :\",pval)"
   ]
  },
  {
   "cell_type": "code",
   "execution_count": 262,
   "id": "3ee3ea30",
   "metadata": {},
   "outputs": [],
   "source": [
    "# since pval is lesser than significance level of 0.05, Ho is rejected, Ha is selected\n",
    "# So Skill moves and Overall rating are dependent"
   ]
  },
  {
   "cell_type": "code",
   "execution_count": 263,
   "id": "c9a99a59",
   "metadata": {},
   "outputs": [
    {
     "data": {
      "text/plain": [
       "<AxesSubplot:xlabel='Skill Moves', ylabel='Overall_rating'>"
      ]
     },
     "execution_count": 263,
     "metadata": {},
     "output_type": "execute_result"
    },
    {
     "data": {
      "image/png": "[encoded data removed]",
      "text/plain": [
       "<Figure size 432x288 with 1 Axes>"
      ]
     },
     "metadata": {},
     "output_type": "display_data"
    }
   ],
   "source": [
    "sns.boxplot(x=df['Skill Moves'],y=df['Overall_rating'])"
   ]
  },
  {
   "cell_type": "code",
   "execution_count": 264,
   "id": "2d53bda0",
   "metadata": {},
   "outputs": [],
   "source": [
    "# From the plot we can see for skill move 1-3 the 50th percentile for Overall rating is somewhat same,\n",
    "# but after 3, the Overall rating increases as skill move increases."
   ]
  },
  {
   "cell_type": "markdown",
   "id": "771c75b3",
   "metadata": {},
   "source": [
    "# Dataset -2"
   ]
  },
  {
   "cell_type": "code",
   "execution_count": 279,
   "id": "016c4403",
   "metadata": {},
   "outputs": [
    {
     "data": {
      "text/html": [
       "<div>\n",
       "<style scoped>\n",
       "    .dataframe tbody tr th:only-of-type {\n",
       "        vertical-align: middle;\n",
       "    }\n",
       "\n",
       "    .dataframe tbody tr th {\n",
       "        vertical-align: top;\n",
       "    }\n",
       "\n",
       "    .dataframe thead th {\n",
       "        text-align: right;\n",
       "    }\n",
       "</style>\n",
       "<table border=\"1\" class=\"dataframe\">\n",
       "  <thead>\n",
       "    <tr style=\"text-align: right;\">\n",
       "      <th></th>\n",
       "      <th>date</th>\n",
       "      <th>duration</th>\n",
       "      <th>item</th>\n",
       "      <th>month</th>\n",
       "      <th>network</th>\n",
       "      <th>network_type</th>\n",
       "    </tr>\n",
       "  </thead>\n",
       "  <tbody>\n",
       "    <tr>\n",
       "      <th>0</th>\n",
       "      <td>15-10-14 6:58</td>\n",
       "      <td>221.321120</td>\n",
       "      <td>data</td>\n",
       "      <td>2014-11</td>\n",
       "      <td>data</td>\n",
       "      <td>data</td>\n",
       "    </tr>\n",
       "    <tr>\n",
       "      <th>1</th>\n",
       "      <td>15-10-14 6:58</td>\n",
       "      <td>81.610599</td>\n",
       "      <td>call</td>\n",
       "      <td>2014-11</td>\n",
       "      <td>Vodafone</td>\n",
       "      <td>mobile</td>\n",
       "    </tr>\n",
       "    <tr>\n",
       "      <th>2</th>\n",
       "      <td>15-10-14 14:46</td>\n",
       "      <td>143.109111</td>\n",
       "      <td>call</td>\n",
       "      <td>2014-11</td>\n",
       "      <td>Meteor</td>\n",
       "      <td>mobile</td>\n",
       "    </tr>\n",
       "    <tr>\n",
       "      <th>3</th>\n",
       "      <td>15-10-14 14:48</td>\n",
       "      <td>111.888670</td>\n",
       "      <td>call</td>\n",
       "      <td>2014-11</td>\n",
       "      <td>Tesco</td>\n",
       "      <td>mobile</td>\n",
       "    </tr>\n",
       "    <tr>\n",
       "      <th>4</th>\n",
       "      <td>15-10-14 17:27</td>\n",
       "      <td>246.695171</td>\n",
       "      <td>call</td>\n",
       "      <td>2014-11</td>\n",
       "      <td>Tesco</td>\n",
       "      <td>mobile</td>\n",
       "    </tr>\n",
       "    <tr>\n",
       "      <th>...</th>\n",
       "      <td>...</td>\n",
       "      <td>...</td>\n",
       "      <td>...</td>\n",
       "      <td>...</td>\n",
       "      <td>...</td>\n",
       "      <td>...</td>\n",
       "    </tr>\n",
       "    <tr>\n",
       "      <th>815</th>\n",
       "      <td>10-03-15 6:58</td>\n",
       "      <td>185.328156</td>\n",
       "      <td>data</td>\n",
       "      <td>2015-03</td>\n",
       "      <td>data</td>\n",
       "      <td>data</td>\n",
       "    </tr>\n",
       "    <tr>\n",
       "      <th>816</th>\n",
       "      <td>11-03-15 6:58</td>\n",
       "      <td>89.819383</td>\n",
       "      <td>data</td>\n",
       "      <td>2015-03</td>\n",
       "      <td>data</td>\n",
       "      <td>data</td>\n",
       "    </tr>\n",
       "    <tr>\n",
       "      <th>817</th>\n",
       "      <td>12-03-15 6:58</td>\n",
       "      <td>117.604998</td>\n",
       "      <td>data</td>\n",
       "      <td>2015-03</td>\n",
       "      <td>data</td>\n",
       "      <td>data</td>\n",
       "    </tr>\n",
       "    <tr>\n",
       "      <th>818</th>\n",
       "      <td>13-03-15 0:39</td>\n",
       "      <td>77.834006</td>\n",
       "      <td>sms</td>\n",
       "      <td>2015-03</td>\n",
       "      <td>Vodafone</td>\n",
       "      <td>mobile</td>\n",
       "    </tr>\n",
       "    <tr>\n",
       "      <th>819</th>\n",
       "      <td>13-03-15 6:58</td>\n",
       "      <td>146.000584</td>\n",
       "      <td>data</td>\n",
       "      <td>2015-03</td>\n",
       "      <td>data</td>\n",
       "      <td>data</td>\n",
       "    </tr>\n",
       "  </tbody>\n",
       "</table>\n",
       "<p>820 rows × 6 columns</p>\n",
       "</div>"
      ],
      "text/plain": [
       "               date    duration  item    month   network network_type\n",
       "0     15-10-14 6:58  221.321120  data  2014-11      data         data\n",
       "1     15-10-14 6:58   81.610599  call  2014-11  Vodafone       mobile\n",
       "2    15-10-14 14:46  143.109111  call  2014-11    Meteor       mobile\n",
       "3    15-10-14 14:48  111.888670  call  2014-11     Tesco       mobile\n",
       "4    15-10-14 17:27  246.695171  call  2014-11     Tesco       mobile\n",
       "..              ...         ...   ...      ...       ...          ...\n",
       "815   10-03-15 6:58  185.328156  data  2015-03      data         data\n",
       "816   11-03-15 6:58   89.819383  data  2015-03      data         data\n",
       "817   12-03-15 6:58  117.604998  data  2015-03      data         data\n",
       "818   13-03-15 0:39   77.834006   sms  2015-03  Vodafone       mobile\n",
       "819   13-03-15 6:58  146.000584  data  2015-03      data         data\n",
       "\n",
       "[820 rows x 6 columns]"
      ]
     },
     "execution_count": 279,
     "metadata": {},
     "output_type": "execute_result"
    }
   ],
   "source": [
    "df0 = pd.read_csv('phone.csv')\n",
    "df = df0.copy()\n",
    "df"
   ]
  },
  {
   "cell_type": "code",
   "execution_count": 267,
   "id": "f6b824e5",
   "metadata": {},
   "outputs": [
    {
     "data": {
      "text/plain": [
       "date            0\n",
       "duration        0\n",
       "item            0\n",
       "month           0\n",
       "network         0\n",
       "network_type    0\n",
       "dtype: int64"
      ]
     },
     "execution_count": 267,
     "metadata": {},
     "output_type": "execute_result"
    }
   ],
   "source": [
    "df.isnull().sum()"
   ]
  },
  {
   "cell_type": "code",
   "execution_count": 268,
   "id": "374a8f8b",
   "metadata": {},
   "outputs": [],
   "source": [
    "# No missing values"
   ]
  },
  {
   "cell_type": "raw",
   "id": "e3198c0d",
   "metadata": {},
   "source": [
    "2. Perform the following statistical analysis on the mobile network dataset given. The given data set contains information about the internet, calls, messages of various network. Data Cleaning and basic EDA process needs to be performed. "
   ]
  },
  {
   "cell_type": "code",
   "execution_count": 269,
   "id": "38b68ea4",
   "metadata": {},
   "outputs": [],
   "source": [
    "# a) With 95% & 99% Confidence Interval find the range estimate of average duration calls made by all the network. \n",
    "#    Which of the Intervals are wider? Interpret the results."
   ]
  },
  {
   "cell_type": "code",
   "execution_count": 273,
   "id": "3dd8a1a8",
   "metadata": {},
   "outputs": [
    {
     "name": "stdout",
     "output_type": "stream",
     "text": [
      "95.0 % Confidence interval : 141.17321160796186 147.43665951170905\n",
      "99.0 % Confidence interval : 140.185636073024 148.4242350466469\n"
     ]
    }
   ],
   "source": [
    "x_bar = df['duration'].mean()\n",
    "s = df['duration'].std()\n",
    "n = len(df)\n",
    "conf_int = [0.95,0.99]\n",
    "\n",
    "for i in conf_int:\n",
    "    t = stats.t.isf((1-i)/2, df=n-1)\n",
    "    ll = x_bar - t*s/n**0.5\n",
    "    ul = x_bar + t*s/n**0.5\n",
    "    print(i*100,'% Confidence interval :', ll,ul)"
   ]
  },
  {
   "cell_type": "code",
   "execution_count": null,
   "id": "ec504e2c",
   "metadata": {},
   "outputs": [],
   "source": [
    "# 99% confidence Interval is wider, this is the expected result, as the interval gets wider we can be more confident that\n",
    "# the mean lies within it."
   ]
  },
  {
   "cell_type": "code",
   "execution_count": 274,
   "id": "c90eed09",
   "metadata": {},
   "outputs": [],
   "source": [
    "# -----------------------------------------------------------------------------------------------------------------------"
   ]
  },
  {
   "cell_type": "code",
   "execution_count": 275,
   "id": "aea17bde",
   "metadata": {},
   "outputs": [],
   "source": [
    "# b) Perform statistical analysis to check whether the networks are equally distributed in the dataset."
   ]
  },
  {
   "cell_type": "code",
   "execution_count": 290,
   "id": "d809d81e",
   "metadata": {},
   "outputs": [
    {
     "data": {
      "text/plain": [
       "Power_divergenceResult(statistic=307.40975609756094, pvalue=2.112592760257746e-63)"
      ]
     },
     "execution_count": 290,
     "metadata": {},
     "output_type": "execute_result"
    }
   ],
   "source": [
    "# Chi squared goodness of fit\n",
    "# Ho : Observed = Expected\n",
    "# Ha : Observed != Expected\n",
    "\n",
    "net = df['network'].unique()\n",
    "net_count = []\n",
    "for i in net:\n",
    "    net_count.append(len(df[df['network']==i]))\n",
    "exp = [len(df)/7]*7\n",
    "\n",
    "stats.chisquare(f_obs=net_count, f_exp=exp)"
   ]
  },
  {
   "cell_type": "code",
   "execution_count": 291,
   "id": "28ee423c",
   "metadata": {},
   "outputs": [],
   "source": [
    "# pval is lesser than significance level of 0.05\n",
    "# Ho is rejected, Ha is selected\n",
    "# Hence, All networks are not equally distributed"
   ]
  },
  {
   "cell_type": "code",
   "execution_count": 292,
   "id": "df3e1f6a",
   "metadata": {},
   "outputs": [],
   "source": [
    "# ------------------------------------------------------------------------------------------------------------------------"
   ]
  },
  {
   "cell_type": "code",
   "execution_count": 293,
   "id": "4a4db883",
   "metadata": {},
   "outputs": [],
   "source": [
    "# c) Plot the distribution of duration with respect to each network in the same graph and\n",
    "#    Interpret the results from the graph."
   ]
  },
  {
   "cell_type": "code",
   "execution_count": 294,
   "id": "a09c7e80",
   "metadata": {},
   "outputs": [
    {
     "data": {
      "text/plain": [
       "<AxesSubplot:xlabel='network', ylabel='duration'>"
      ]
     },
     "execution_count": 294,
     "metadata": {},
     "output_type": "execute_result"
    },
    {
     "data": {
      "image/png": "[encoded data removed]",
      "text/plain": [
       "<Figure size 432x288 with 1 Axes>"
      ]
     },
     "metadata": {},
     "output_type": "display_data"
    }
   ],
   "source": [
    "sns.boxplot(x=df['network'], y=df['duration'])"
   ]
  },
  {
   "cell_type": "code",
   "execution_count": 295,
   "id": "2694fc96",
   "metadata": {},
   "outputs": [],
   "source": [
    "# From the plot we can observe the IQR for each network type lies around the same range of 120-180\n",
    "# The 50th percetile for voicemail is slightly higher than the rest, but overall we can conclude that\n",
    "# there is no relation between duration and network type"
   ]
  },
  {
   "cell_type": "code",
   "execution_count": null,
   "id": "905ec1bb",
   "metadata": {},
   "outputs": [],
   "source": [
    "# ------------------------------------------------------------------------------------------------------------------------"
   ]
  },
  {
   "cell_type": "code",
   "execution_count": 296,
   "id": "1f36fc37",
   "metadata": {},
   "outputs": [],
   "source": [
    "# d) Perform statistical tests to identify the relation between item and duration. Detailed \n",
    "#    explanation of relation between the classes is required."
   ]
  },
  {
   "cell_type": "code",
   "execution_count": 303,
   "id": "c8ffaf34",
   "metadata": {},
   "outputs": [
    {
     "name": "stdout",
     "output_type": "stream",
     "text": [
      "ShapiroResult(statistic=0.9912639856338501, pvalue=0.48521795868873596)\n",
      "ShapiroResult(statistic=0.9973042011260986, pvalue=0.7803382277488708)\n",
      "ShapiroResult(statistic=0.9943404197692871, pvalue=0.37839275598526)\n"
     ]
    }
   ],
   "source": [
    "# 1 continuous and 1 categorical column, going for ANOVA test\n",
    "# Checking prerequisites :\n",
    "\n",
    "# Normality :\n",
    "d = {}\n",
    "for i in df['item'].unique():\n",
    "    d[i] = df[df['item']==i]['duration']\n",
    "    print(stats.shapiro(d[i]))"
   ]
  },
  {
   "cell_type": "code",
   "execution_count": null,
   "id": "2fe6aa89",
   "metadata": {},
   "outputs": [],
   "source": [
    "# pval > 0.05 for all 3 item type, data is normal"
   ]
  },
  {
   "cell_type": "code",
   "execution_count": 304,
   "id": "97b7f856",
   "metadata": {},
   "outputs": [
    {
     "data": {
      "text/plain": [
       "LeveneResult(statistic=3.4300976447008478, pvalue=0.03285087780533987)"
      ]
     },
     "execution_count": 304,
     "metadata": {},
     "output_type": "execute_result"
    }
   ],
   "source": [
    "# Equal Variance : \n",
    "stats.levene(d['data'],d['call'],d['sms'])"
   ]
  },
  {
   "cell_type": "code",
   "execution_count": 305,
   "id": "25f0087b",
   "metadata": {},
   "outputs": [],
   "source": [
    "# Lets assume the variance is equal for all 3 item type to continue with testing"
   ]
  },
  {
   "cell_type": "code",
   "execution_count": 306,
   "id": "09909605",
   "metadata": {},
   "outputs": [
    {
     "data": {
      "text/plain": [
       "F_onewayResult(statistic=1.9313964906864995, pvalue=0.1456068656611744)"
      ]
     },
     "execution_count": 306,
     "metadata": {},
     "output_type": "execute_result"
    }
   ],
   "source": [
    "# ANOVA:\n",
    "# Ho : avg duration for all item type is equal\n",
    "# Ha : avg duration for all item type is not equal\n",
    "\n",
    "stats.f_oneway(d['data'],d['call'],d['sms'])"
   ]
  },
  {
   "cell_type": "code",
   "execution_count": 307,
   "id": "b78de31e",
   "metadata": {},
   "outputs": [],
   "source": [
    "# pval is greater than significane level of 0.05\n",
    "# Ho is selected\n",
    "# Hence, the average duration for all 3 items types are equal\n",
    "# Since the average duration is same for all categories, we can say that the duration is not dependent on item type\n",
    "# So we can conclude that the Duration and Item type has no relation!!"
   ]
  },
  {
   "cell_type": "code",
   "execution_count": 308,
   "id": "2a23e4ee",
   "metadata": {},
   "outputs": [],
   "source": [
    "# ---------------------------------------------------------------------------------------------------------------------"
   ]
  },
  {
   "cell_type": "code",
   "execution_count": 309,
   "id": "6dc78801",
   "metadata": {},
   "outputs": [],
   "source": [
    "# e) Perform statistical tests to identify the relation between network and network_type. "
   ]
  },
  {
   "cell_type": "code",
   "execution_count": 310,
   "id": "03f6e076",
   "metadata": {},
   "outputs": [
    {
     "data": {
      "text/html": [
       "<div>\n",
       "<style scoped>\n",
       "    .dataframe tbody tr th:only-of-type {\n",
       "        vertical-align: middle;\n",
       "    }\n",
       "\n",
       "    .dataframe tbody tr th {\n",
       "        vertical-align: top;\n",
       "    }\n",
       "\n",
       "    .dataframe thead th {\n",
       "        text-align: right;\n",
       "    }\n",
       "</style>\n",
       "<table border=\"1\" class=\"dataframe\">\n",
       "  <thead>\n",
       "    <tr style=\"text-align: right;\">\n",
       "      <th>network_type</th>\n",
       "      <th>data</th>\n",
       "      <th>landline</th>\n",
       "      <th>mobile</th>\n",
       "      <th>voicemail</th>\n",
       "    </tr>\n",
       "    <tr>\n",
       "      <th>network</th>\n",
       "      <th></th>\n",
       "      <th></th>\n",
       "      <th></th>\n",
       "      <th></th>\n",
       "    </tr>\n",
       "  </thead>\n",
       "  <tbody>\n",
       "    <tr>\n",
       "      <th>Meteor</th>\n",
       "      <td>0</td>\n",
       "      <td>0</td>\n",
       "      <td>87</td>\n",
       "      <td>0</td>\n",
       "    </tr>\n",
       "    <tr>\n",
       "      <th>Tesco</th>\n",
       "      <td>0</td>\n",
       "      <td>0</td>\n",
       "      <td>84</td>\n",
       "      <td>0</td>\n",
       "    </tr>\n",
       "    <tr>\n",
       "      <th>Three</th>\n",
       "      <td>0</td>\n",
       "      <td>0</td>\n",
       "      <td>215</td>\n",
       "      <td>0</td>\n",
       "    </tr>\n",
       "    <tr>\n",
       "      <th>Vodafone</th>\n",
       "      <td>0</td>\n",
       "      <td>0</td>\n",
       "      <td>215</td>\n",
       "      <td>0</td>\n",
       "    </tr>\n",
       "    <tr>\n",
       "      <th>data</th>\n",
       "      <td>150</td>\n",
       "      <td>0</td>\n",
       "      <td>0</td>\n",
       "      <td>0</td>\n",
       "    </tr>\n",
       "    <tr>\n",
       "      <th>landline</th>\n",
       "      <td>0</td>\n",
       "      <td>42</td>\n",
       "      <td>0</td>\n",
       "      <td>0</td>\n",
       "    </tr>\n",
       "    <tr>\n",
       "      <th>voicemail</th>\n",
       "      <td>0</td>\n",
       "      <td>0</td>\n",
       "      <td>0</td>\n",
       "      <td>27</td>\n",
       "    </tr>\n",
       "  </tbody>\n",
       "</table>\n",
       "</div>"
      ],
      "text/plain": [
       "network_type  data  landline  mobile  voicemail\n",
       "network                                        \n",
       "Meteor           0         0      87          0\n",
       "Tesco            0         0      84          0\n",
       "Three            0         0     215          0\n",
       "Vodafone         0         0     215          0\n",
       "data           150         0       0          0\n",
       "landline         0        42       0          0\n",
       "voicemail        0         0       0         27"
      ]
     },
     "execution_count": 310,
     "metadata": {},
     "output_type": "execute_result"
    }
   ],
   "source": [
    "# Chi square TOI\n",
    "\n",
    "# Ho : network and netwrok type are independent\n",
    "# Ha : network and netwrok type are dependent\n",
    "\n",
    "obs = pd.crosstab(df['network'], df['network_type'])\n",
    "obs"
   ]
  },
  {
   "cell_type": "code",
   "execution_count": 311,
   "id": "6d973640",
   "metadata": {},
   "outputs": [
    {
     "data": {
      "text/plain": [
       "(2460.0,\n",
       " 0.0,\n",
       " 18,\n",
       " array([[ 15.91463415,   4.45609756,  63.76463415,   2.86463415],\n",
       "        [ 15.36585366,   4.30243902,  61.56585366,   2.76585366],\n",
       "        [ 39.32926829,  11.01219512, 157.57926829,   7.07926829],\n",
       "        [ 39.32926829,  11.01219512, 157.57926829,   7.07926829],\n",
       "        [ 27.43902439,   7.68292683, 109.93902439,   4.93902439],\n",
       "        [  7.68292683,   2.15121951,  30.78292683,   1.38292683],\n",
       "        [  4.93902439,   1.38292683,  19.78902439,   0.88902439]]))"
      ]
     },
     "execution_count": 311,
     "metadata": {},
     "output_type": "execute_result"
    }
   ],
   "source": [
    "test_stat, pval, dof, exp = stats.chi2_contingency(obs)\n",
    "stats.chi2_contingency(obs)"
   ]
  },
  {
   "cell_type": "code",
   "execution_count": 312,
   "id": "6ec2885c",
   "metadata": {},
   "outputs": [
    {
     "name": "stdout",
     "output_type": "stream",
     "text": [
      "P-vaule is : 0.0\n"
     ]
    }
   ],
   "source": [
    "print(\"P-vaule is :\",pval)"
   ]
  },
  {
   "cell_type": "code",
   "execution_count": null,
   "id": "997bcdbe",
   "metadata": {},
   "outputs": [],
   "source": [
    "# pval is lesser than significance level of 0.05\n",
    "# Ho is rejecetd, Ha is selected\n",
    "# So, network and network_type are dependent"
   ]
  }
 ],
 "metadata": {
  "kernelspec": {
   "display_name": "Python 3",
   "language": "python",
   "name": "python3"
  },
  "language_info": {
   "codemirror_mode": {
    "name": "ipython",
    "version": 3
   },
   "file_extension": ".py",
   "mimetype": "text/x-python",
   "name": "python",
   "nbconvert_exporter": "python",
   "pygments_lexer": "ipython3",
   "version": "3.8.8"
  }
 },
 "nbformat": 4,
 "nbformat_minor": 5
}
